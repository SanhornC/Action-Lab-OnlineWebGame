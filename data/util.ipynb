{
 "cells": [
  {
   "cell_type": "markdown",
   "metadata": {},
   "source": [
    "# Common Functions\n",
    "\n",
    "date: y2025m01d17\n",
    "\n",
    "---"
   ]
  },
  {
   "cell_type": "markdown",
   "metadata": {},
   "source": [
    "## Transform Case ID String into Tuple"
   ]
  },
  {
   "cell_type": "code",
   "execution_count": 8,
   "metadata": {},
   "outputs": [],
   "source": [
    "def transform_case_v0_id_str_fn(case_v0_id_str: str):\n",
    "  CHAR_LOWER_A_U8 = ord('a')\n",
    "  if len(case_v0_id_str) < 5:\n",
    "    return (int(case_v0_id_str[1]), int(case_v0_id_str[3]), 0)\n",
    "  else:\n",
    "    return (int(case_v0_id_str[1]), int(case_v0_id_str[3]), int(ord(case_v0_id_str[4]) - CHAR_LOWER_A_U8))\n",
    "\n",
    "assert(transform_case_v0_id_str_fn(\"C1D1\") == (1,1,0))\n",
    "assert(transform_case_v0_id_str_fn(\"C1D1a\") == (1,1,0))\n",
    "assert(transform_case_v0_id_str_fn(\"C2D2b\") == (2,2,1))"
   ]
  },
  {
   "cell_type": "markdown",
   "metadata": {},
   "source": [
    "## Transform Sceneario ID String into Tuple"
   ]
  },
  {
   "cell_type": "code",
   "execution_count": 1,
   "metadata": {},
   "outputs": [],
   "source": [
    "def transform_scenario_v0_id_str_fn(name_str:str):\n",
    "  ans_list = [0,0,0]\n",
    "  parsing_num_flag = False\n",
    "  num_i = 0\n",
    "  for c_char in name_str:\n",
    "    if c_char.isdigit():\n",
    "      if num_i > 2:\n",
    "        print(name_str)\n",
    "      ans_list[num_i] = ans_list[num_i] * 10 + int(c_char)\n",
    "      parsing_num_flag = True\n",
    "    else:\n",
    "      if parsing_num_flag == True:\n",
    "        parsing_num_flag = False\n",
    "        num_i += 1\n",
    "\n",
    "  return (ans_list[0], ans_list[1], ans_list[2])\n",
    "\n",
    "assert(transform_scenario_v0_id_str_fn(\"S1T1C1\") == (1,1,1))\n",
    "assert(transform_scenario_v0_id_str_fn(\"S1T2C2\") == (1,2,2))\n",
    "assert(transform_scenario_v0_id_str_fn(\"S1T2\") == (1,2,0))"
   ]
  },
  {
   "cell_type": "markdown",
   "metadata": {},
   "source": [
    "## Transform Card ID List String to Local (in-scenario) Card Index List"
   ]
  },
  {
   "cell_type": "code",
   "execution_count": 9,
   "metadata": {},
   "outputs": [],
   "source": [
    "def transform_card_id_list_str_to_idx_fn(card_id_list_string: str):\n",
    "  card_id_list = card_id_list_string.split(',')\n",
    "  card_idx_list = []\n",
    "  for card_id_str in card_id_list:\n",
    "    card_idx_list.append(int(transform_scenario_v0_id_str_fn(card_id_str)[2]) - 1) # To Zero Based Index\n",
    "  card_idx_list.sort()\n",
    "  return card_idx_list\n",
    "\n",
    "assert(transform_card_id_list_str_to_idx_fn(\"S1T1C1,S1T1C2\") == [0,1])\n",
    "assert(transform_card_id_list_str_to_idx_fn(\"S1T2C1,S1T2C3\") == [0,2])"
   ]
  },
  {
   "cell_type": "markdown",
   "metadata": {},
   "source": [
    "## Transform In Game Scene Num ID String to Index"
   ]
  },
  {
   "cell_type": "code",
   "execution_count": 7,
   "metadata": {},
   "outputs": [],
   "source": [
    "# In other words, whether a scene is the first scene, the second scene, or the third scene.\n",
    "\n",
    "def transform_in_game_num_idx_str_to_idx_fn(game_num_idx_str: str):\n",
    "  return int(game_num_idx_str[-1]) - 1\n",
    "\n",
    "assert(transform_in_game_num_idx_str_to_idx_fn(\"C36_S1\") == 0)\n",
    "assert(transform_in_game_num_idx_str_to_idx_fn(\"C36_S2\") == 1)"
   ]
  },
  {
   "cell_type": "markdown",
   "metadata": {},
   "source": [
    "## Transform Condition ID String"
   ]
  },
  {
   "cell_type": "code",
   "execution_count": 1,
   "metadata": {},
   "outputs": [],
   "source": [
    "def transform_condition_id_str_to_idx_fn(condition_id_str: str):\n",
    "  ans_condition_i = 0\n",
    "  met_number_c_flag = False\n",
    "  for c in condition_id_str:\n",
    "    if c.isdigit():\n",
    "      ans_condition_i = ans_condition_i * 10 + int(c)\n",
    "      met_number_c_flag = True\n",
    "    elif met_number_c_flag == True:\n",
    "      break\n",
    "  return ans_condition_i\n",
    "\n",
    "assert(transform_condition_id_str_to_idx_fn(\"C36_S1\") == 36)\n",
    "assert(transform_condition_id_str_to_idx_fn(\"C35_S2\") == 35)\n",
    "assert(transform_condition_id_str_to_idx_fn(\"IC35_S2\") == 35)"
   ]
  }
 ],
 "metadata": {
  "kernelspec": {
   "display_name": "Python 3",
   "language": "python",
   "name": "python3"
  },
  "language_info": {
   "codemirror_mode": {
    "name": "ipython",
    "version": 3
   },
   "file_extension": ".py",
   "mimetype": "text/x-python",
   "name": "python",
   "nbconvert_exporter": "python",
   "pygments_lexer": "ipython3",
   "version": "3.11.5"
  }
 },
 "nbformat": 4,
 "nbformat_minor": 2
}
